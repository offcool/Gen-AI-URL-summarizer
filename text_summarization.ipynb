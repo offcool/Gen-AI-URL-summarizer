{
 "cells": [
  {
   "cell_type": "code",
   "execution_count": 25,
   "metadata": {},
   "outputs": [
    {
     "data": {
      "text/plain": [
       "True"
      ]
     },
     "execution_count": 25,
     "metadata": {},
     "output_type": "execute_result"
    }
   ],
   "source": [
    "import os\n",
    "from dotenv import load_dotenv\n",
    "load_dotenv()"
   ]
  },
  {
   "cell_type": "code",
   "execution_count": 26,
   "metadata": {},
   "outputs": [
    {
     "data": {
      "text/plain": [
       "ChatGroq(client=<groq.resources.chat.completions.Completions object at 0x0000024176B92270>, async_client=<groq.resources.chat.completions.AsyncCompletions object at 0x00000241754EC860>, model_name='Gemma-7b-It', model_kwargs={}, groq_api_key=SecretStr('**********'))"
      ]
     },
     "execution_count": 26,
     "metadata": {},
     "output_type": "execute_result"
    }
   ],
   "source": [
    "from langchain_groq import ChatGroq\n",
    "api_key=os.getenv(\"GROQ_API_KEY\")\n",
    "llm=ChatGroq(groq_api_key=api_key,model=\"Gemma-7b-It\")\n",
    "llm"
   ]
  },
  {
   "cell_type": "code",
   "execution_count": 27,
   "metadata": {},
   "outputs": [],
   "source": [
    "from langchain.schema import(\n",
    "    AIMessage,\n",
    "    HumanMessage,SystemMessage\n",
    ")"
   ]
  },
  {
   "cell_type": "code",
   "execution_count": 28,
   "metadata": {},
   "outputs": [],
   "source": [
    "speech=\"\"\"\n",
    "People across the country, involved in government, political, and social activities, are dedicating their time to make the ‘Viksit Bharat Sankalp Yatra’ (Developed India Resolution Journey) successful. Therefore, as a Member of Parliament, it was my responsibility to also contribute my time to this program. So, today, I have come here just as a Member of Parliament and your ‘sevak’, ready to participate in this program, much like you.\n",
    "\n",
    "In our country, governments have come and gone, numerous schemes have been formulated, discussions have taken place, and big promises have been made. However, my experience and observations led me to believe that the most critical aspect that requires attention is ensuring that the government’s plans reach the intended beneficiaries without any hassles. If there is a ‘Pradhan Mantri Awas Yojana’ (Prime Minister’s housing scheme), then those who are living in jhuggis and slums should get their houses. And he should not need to make rounds of the government offices for this purpose. The government should reach him. Since you have assigned this responsibility to me, about four crore families have got their ‘pucca’ houses. However, I have encountered cases where someone is left out of the government benefits. Therefore, I have decided to tour the country again, to listen to people’s experiences with government schemes, to understand whether they received the intended benefits, and to ensure that the programs are reaching everyone as planned without paying any bribes. We will get the real picture if we visit them again. Therefore, this ‘Viksit Bharat Sankalp Yatra’ is, in a way, my own examination. I want to hear from you and the people across the country whether what I envisioned and the work I have been doing aligns with reality and whether it has reached those for whom it was meant.\n",
    "\n",
    "It is crucial to check whether the work that was supposed to happen has indeed taken place. I recently met some individuals who utilized the Ayushman card to get treatment for serious illnesses. One person met with a severe accident, and after using the card, he could afford the necessary operation, and now he is recovering well. When I asked him, he said: “How could I afford this treatment? Now that there is the Ayushman card, I mustered courage and underwent an operation. Now I am perfectly fine.”  Such stories are blessings to me.\n",
    "\n",
    "The bureaucrats, who prepare good schemes, expedite the paperwork and even allocate funds, also feel satisfied that 50 or 100 people who were supposed to get the funds have got it. The funds meant for a thousand villages have been released. But their job satisfaction peaks when they hear that their work has directly impacted someone’s life positively. When they see the tangible results of their efforts, their enthusiasm multiplies. They feel satisfied. Therefore, ‘Viksit Bharat Sankalp Yatra’ has had a positive impact on government officers. It has made them more enthusiastic about their work, especially when they witness the tangible benefits reaching the people. Officers now feel satisfied with their work, saying, “I made a good plan, I created a file, and the intended beneficiaries received the benefits.” When they find that the money has reached a poor widow under the Jeevan Jyoti scheme and it was a great help to her during her crisis, they realise that they have done a good job. When a government officer listens to such stories, he feels very satisfied.\n",
    "\n",
    "There are very few who understand the power and impact of the ‘Viksit Bharat Sankalp Yatra’. When I hear people connected to bureaucratic circles talking about it, expressing their satisfaction, it resonates with me. I’ve heard stories where someone suddenly received 2 lakh rupees after the death of her husband, and a sister mentioned how the arrival of gas in her home transformed her lives. The most significant aspect is when someone says that the line between rich and poor has vanished. While the slogan ‘Garibi Hatao’ (Remove Poverty) is one thing, but the real change happens when a person says, “As soon as the gas stove came to my house, the distinction between poverty and affluence disappeared.\n",
    "\"\"\""
   ]
  },
  {
   "cell_type": "code",
   "execution_count": 29,
   "metadata": {},
   "outputs": [],
   "source": [
    "chat_message=[\n",
    "    SystemMessage(content=\"You are expert with experise in summarizing speeched\"),\n",
    "    HumanMessage(content=f\"Please provide a short and concisse summary of the follow speech:\\n Text:{speech}\")\n",
    "]"
   ]
  },
  {
   "cell_type": "code",
   "execution_count": 30,
   "metadata": {},
   "outputs": [
    {
     "data": {
      "text/plain": [
       "909"
      ]
     },
     "execution_count": 30,
     "metadata": {},
     "output_type": "execute_result"
    }
   ],
   "source": [
    "llm.get_num_tokens(speech)"
   ]
  },
  {
   "cell_type": "code",
   "execution_count": 31,
   "metadata": {},
   "outputs": [
    {
     "data": {
      "text/plain": [
       "'**Summary:**\\n\\nThe speaker, a Member of Parliament, highlights the importance of ensuring that government schemes reach their intended beneficiaries without obstacles. He emphasizes the success of the ‘Viksit Bharat Sankalp Yatra’ in connecting people with government schemes and bringing transparency and accountability to the system. The speaker shares inspiring stories of people who have benefited from various schemes and expresses his determination to continue working towards ensuring equitable access to essential services and opportunities for all.'"
      ]
     },
     "execution_count": 31,
     "metadata": {},
     "output_type": "execute_result"
    }
   ],
   "source": [
    "llm(chat_message).content"
   ]
  },
  {
   "cell_type": "markdown",
   "metadata": {},
   "source": [
    "### Prompt template text summarization"
   ]
  },
  {
   "cell_type": "code",
   "execution_count": 32,
   "metadata": {},
   "outputs": [
    {
     "data": {
      "text/plain": [
       "PromptTemplate(input_variables=['language', 'speech'], input_types={}, partial_variables={}, template='\\nWrite a summary of the following speech:\\nSpeech:{speech}\\nTranslate the precise summary to {language}\\n')"
      ]
     },
     "execution_count": 32,
     "metadata": {},
     "output_type": "execute_result"
    }
   ],
   "source": [
    "from langchain.chains import LLMChain\n",
    "from langchain import PromptTemplate\n",
    "\n",
    "generictemplate=\"\"\"\n",
    "Write a summary of the following speech:\n",
    "Speech:{speech}\n",
    "Translate the precise summary to {language}\n",
    "\"\"\"\n",
    "\n",
    "prompt=PromptTemplate(\n",
    "    input_variables=['speech','language'],\n",
    "    template=generictemplate\n",
    ")\n",
    "prompt"
   ]
  },
  {
   "cell_type": "code",
   "execution_count": 33,
   "metadata": {},
   "outputs": [
    {
     "data": {
      "text/plain": [
       "'\\nWrite a summary of the following speech:\\nSpeech:\\nPeople across the country, involved in government, political, and social activities, are dedicating their time to make the ‘Viksit Bharat Sankalp Yatra’ (Developed India Resolution Journey) successful. Therefore, as a Member of Parliament, it was my responsibility to also contribute my time to this program. So, today, I have come here just as a Member of Parliament and your ‘sevak’, ready to participate in this program, much like you.\\n\\nIn our country, governments have come and gone, numerous schemes have been formulated, discussions have taken place, and big promises have been made. However, my experience and observations led me to believe that the most critical aspect that requires attention is ensuring that the government’s plans reach the intended beneficiaries without any hassles. If there is a ‘Pradhan Mantri Awas Yojana’ (Prime Minister’s housing scheme), then those who are living in jhuggis and slums should get their houses. And he should not need to make rounds of the government offices for this purpose. The government should reach him. Since you have assigned this responsibility to me, about four crore families have got their ‘pucca’ houses. However, I have encountered cases where someone is left out of the government benefits. Therefore, I have decided to tour the country again, to listen to people’s experiences with government schemes, to understand whether they received the intended benefits, and to ensure that the programs are reaching everyone as planned without paying any bribes. We will get the real picture if we visit them again. Therefore, this ‘Viksit Bharat Sankalp Yatra’ is, in a way, my own examination. I want to hear from you and the people across the country whether what I envisioned and the work I have been doing aligns with reality and whether it has reached those for whom it was meant.\\n\\nIt is crucial to check whether the work that was supposed to happen has indeed taken place. I recently met some individuals who utilized the Ayushman card to get treatment for serious illnesses. One person met with a severe accident, and after using the card, he could afford the necessary operation, and now he is recovering well. When I asked him, he said: “How could I afford this treatment? Now that there is the Ayushman card, I mustered courage and underwent an operation. Now I am perfectly fine.”  Such stories are blessings to me.\\n\\nThe bureaucrats, who prepare good schemes, expedite the paperwork and even allocate funds, also feel satisfied that 50 or 100 people who were supposed to get the funds have got it. The funds meant for a thousand villages have been released. But their job satisfaction peaks when they hear that their work has directly impacted someone’s life positively. When they see the tangible results of their efforts, their enthusiasm multiplies. They feel satisfied. Therefore, ‘Viksit Bharat Sankalp Yatra’ has had a positive impact on government officers. It has made them more enthusiastic about their work, especially when they witness the tangible benefits reaching the people. Officers now feel satisfied with their work, saying, “I made a good plan, I created a file, and the intended beneficiaries received the benefits.” When they find that the money has reached a poor widow under the Jeevan Jyoti scheme and it was a great help to her during her crisis, they realise that they have done a good job. When a government officer listens to such stories, he feels very satisfied.\\n\\nThere are very few who understand the power and impact of the ‘Viksit Bharat Sankalp Yatra’. When I hear people connected to bureaucratic circles talking about it, expressing their satisfaction, it resonates with me. I’ve heard stories where someone suddenly received 2 lakh rupees after the death of her husband, and a sister mentioned how the arrival of gas in her home transformed her lives. The most significant aspect is when someone says that the line between rich and poor has vanished. While the slogan ‘Garibi Hatao’ (Remove Poverty) is one thing, but the real change happens when a person says, “As soon as the gas stove came to my house, the distinction between poverty and affluence disappeared.\\n\\nTranslate the precise summary to French\\n'"
      ]
     },
     "execution_count": 33,
     "metadata": {},
     "output_type": "execute_result"
    }
   ],
   "source": [
    "complete_prompt=prompt.format(speech=speech,language=\"French\")\n",
    "complete_prompt"
   ]
  },
  {
   "cell_type": "code",
   "execution_count": 34,
   "metadata": {},
   "outputs": [
    {
     "data": {
      "text/plain": [
       "931"
      ]
     },
     "execution_count": 34,
     "metadata": {},
     "output_type": "execute_result"
    }
   ],
   "source": [
    "llm.get_num_tokens(complete_prompt)"
   ]
  },
  {
   "cell_type": "code",
   "execution_count": 35,
   "metadata": {},
   "outputs": [
    {
     "data": {
      "text/plain": [
       "'**Summary:**\\n\\nالتُجرى حملة \"فيكسيت ب harث sankALP يatra\" ( رحلة قرارة تحسين بھارت) من قبل أعضاءين برلمان والمسؤلين الحكوميين والاجتماعيين من جميع أنحاء Häufigة. كعضو برلمان، كنت متمسكًا بتبرير وقتي في هذه الحملة.\\n\\nفي بلدنا، أُجري حكومات عديدة، تم صياغ برامج عديدة، وأجري حوارات وأُعبار عن lø løب. لكن تجربتي وملاحظاتيMine يؤكد لي أنّAspect الأهم الذي يتطلب تركيزًا هو ضمان انتقال خطط حكومية المستهدفة إلى المستفيدين المقصودين دون أي عوائق.\\n\\nوبما هو أن هناك برامج مثل \"برادجان مانتري أفازيا يوريا\" (برنامج المساكنة رئيس الوزراء) فإن من يعيش في الجهوجات والظروف السlumية يجب أن يحصل على منازل. يجب أن ي رسلهم الحكوم. منذ أن تولا لي هذه المسألة، فقد حصل 40 مليون أسرة على منازل \"بُPCL\". ومع ذلك، قابلت أن أرى بعض الحالات التي لم تعجبها حصولها على مزايا حكومية. لذلك قررت استكشاف البلاد مرة أخرى، للслуح من تجربة الناس مع برامج حكومية، لتحديد ما إذا تلقت مزايا المستهدفة أو لا.\\n\\nمن المهم التحقق من ما إذا تم تنفيذ العمل الذي كان من المتوقع. قابلت التعرّف على بعض الأشخاص الذين استفيدوا من بطاقة آيushman لتلقي العلاج للمرضعات الخفيفة. عندما سأتهم، قال: \"كيف يمكن أن أ rådف هذا العلاج؟ الآن أن هناك بطاقة آيushman، وجبت الشجور وذهبت للعمل. الآن أنا بخير.\"\\n\\nويؤكد \"فيكسيت ب harث sankalp yatra\" تأثيرات إيجابية على موظفي الحكوميين. لقد أصبحوا أكثر حماسًا في عملهم، خاصة عندما يشهدوا كيف تؤثر المزايا على الناس بشكل مباشر. عندما يسمعوا قصص مثل هذا، يشعرون بالرضا عن عملهم.'"
      ]
     },
     "execution_count": 35,
     "metadata": {},
     "output_type": "execute_result"
    }
   ],
   "source": [
    "llm_chain=LLMChain(llm=llm,prompt=prompt)\n",
    "summary=llm_chain.run({'speech':speech,'language':'arabic'})\n",
    "summary"
   ]
  },
  {
   "cell_type": "markdown",
   "metadata": {},
   "source": [
    "### Stuff Document Chain Text Summarization\n"
   ]
  },
  {
   "cell_type": "code",
   "execution_count": 36,
   "metadata": {},
   "outputs": [
    {
     "data": {
      "text/plain": [
       "[Document(metadata={'source': 'SemehSAYADI_CV.pdf', 'page': 0}, page_content='Semeh Sayadi\\nEmbedded Software Engineer\\n♂¶ap-¶arker-altTunis, La Soukra /envel⌢pesayadisemeh@gmail.com ♂phone-alt+216 29 256 607 /linkedin-insemehSayadi\\nAcademic Background\\nNational School of Engineering of Monastir\\nENIM,MonastirSept 2020 – July 2023\\nCoursework: Electrical engineering degree - Industrial computing and Instrumentation\\nPreparatory Institue for Engineering studies of Monastir\\nIPEIM,MonastirSept 2018 – July 2020\\nCoursework: Mathematics - Physics\\nHigh School Hedi Khefacha of Monastir\\nLHKM,MonastirSept 2014 – June 2018\\nCoursework: Baccalaureate in Mathematics\\nProfessional Experience\\nSoftware Engineer\\nSherpa Engineering MENAembedded SW - Tunis\\nOct 2023 – Present\\n- Predictive maintenance PoC (Industrial-IoT):\\n–STEVAL-STWINKT1B kit - NanoEdge-AI studio - STM32 CubeAI - FSM & MLC configuration.\\n- ECU LowLayer development : ( NUCLEO-H723ZG / ETHERNET/ TCP-IP protocol)\\n–TCP server/FLASH/PWM/ADC/IO : modules &APIs development\\n–Client(python) : Requests Development\\n- Mastering Python Testing ( Pytest Automation Testing / Unittest Framework - REST API Testing - TDD).\\n- RENESAS RH850-F1KM-S4-V3 microcontroller (RS-CAN FD / AUTOSAR MCAL Drivers & Davinci\\nConfigurator /frames troubleshooting).\\n- Mastered ARM-Cortex M4/M7 architecture (Hardware Configuration - Drivers Development - Data Visu-\\nalization).\\nTech: STM32CubeIDE, CS+ IDE, PyCharm, VSCode, Davinci Configurator.\\nEmbedded Software Engineer Intern\\nHutchinson - Electronics & IT departementInternship, Sousse\\nFeb 2023 – July 2023\\n- Developing the core of a portable certified 2D graphics library HAGL-V2/repo /external-link-alt\\nfor memory constrained embedded devices.\\n- API’s Development following MISRA-C and DO-178C standards.\\n- Algorithms implementation (DDA, Bresenham’s, Xiaolin Wu).\\n- Graphic rendering optimization.\\n- Development of Scaling/Font-Kerning for TrueType FONTS.\\nTech: Computer Graphics, DO-178C, MISRA-C ,STM32CubeIDE , Git, STM32F769i - STM32H735G.\\nSoftware Engineer Intern\\nCRMN - mechatronics departementInternship, Sousse\\nJune 2022 – Aug 2022\\n- Conception of a Telemedicine application on a robot system Medical app/external-link-alt\\n(IoT based health care services).\\n- Integration, testing and securing sensitive medical data.\\nTech: Android Studio, VisualStudio Code, C++, Flutter, Firebase, UI/UX, UML.\\nEngineer Intern\\nSABENA Technics MIR - Production departementInternship, Monastir\\nAugust 2021 – Sep 2021\\nSemeh Sayadi - Page 1 of 2Last updated in September 2024'),\n",
       " Document(metadata={'source': 'SemehSAYADI_CV.pdf', 'page': 1}, page_content='- Provided practical experience in aeronautical maintenance (Airbus A320 family).\\n- Worked on CFM56 engines and the Auxiliary Power Unit (APU).\\nTech: A320/A321-Neo, ACARS/ARINC429/CAN Protocol,Data link Routing,Skydrol, PTU,RAT Turbin\\nAcademic Projects\\nFall detection application December-2022\\n◦Supervised classification model (KNN , SVM algorithms ),Cross-Validation (GridSearchCV)\\n◦Tools: Python/PyCharm/Numpy/Pandas/Scikit-Learn/inertial sensors\\nImage Processing December-2022\\n◦Convolution Filters,Histogram Equalization,Thresholding,Morphological Operations.\\n◦Tools: C#,GPU programming ,CUDA, OOP.\\nReal-Time Face Detection October-2022\\n◦Pre-trained Face Detection Model\\n◦Tools: C#, EmguCV.\\nM&M’s : Image Processing project April-2022\\n◦Unsupervised Clustering machine learning models,Bagging.\\n◦Tools: VScode, OpenCV, K-Means, Random Forest alogrithm\\nTechnologies\\nProgramming Languages: Python, C, C++, Java, Bash.\\nOperating systems: Windows, Linux, RTOS.\\nTools: PyCharm, VisualStudioCode, STM32CubeIDE, ANDROID studio, Flutter, GIT, GITLAB, JIRA.\\nProtocols: CAN, LIN,UART, SPI, I2C, Bluetooth, Wi-Fi, MQTT, Lo-Ra ,TCP/IP.\\nStandards: AUTOSAR-architecture, MISRA-C, DO-178.\\nMachine Learning: Time Series Analysis, LLM’s, PyTorch, Numpy, Pandas, TensorFlow, Keras,\\nDeepLearning(ANN/CNN/RNN/LSTM/GRU).\\nDatabase: Firebase, MySQL.\\nTesting Methodologies: Agile, Kanban , BDD, TDD.\\nLanguages\\nEnglish: B2 French: C1 Italian: A2 Arabic: Native\\nExtracurricular Activities\\nAIESEC Ruspina Feb 2018 - Dec 2020\\n◦OGV Team leader\\nENIM Robotics club Sep 2020 - Oct 2021\\n◦Active member\\nPAPADAM/Oriento Monastir june 2019 - Sep 2023\\n◦Financial Manager\\nS.Sayadi/Certifications /external-link-alt\\nSemeh Sayadi - Page 2 of 2')]"
      ]
     },
     "execution_count": 36,
     "metadata": {},
     "output_type": "execute_result"
    }
   ],
   "source": [
    "from langchain_community.document_loaders import PyPDFLoader\n",
    "\n",
    "loader = PyPDFLoader(\"SemehSAYADI_CV.pdf\")\n",
    "docs = loader.load_and_split()\n",
    "docs"
   ]
  },
  {
   "cell_type": "code",
   "execution_count": 37,
   "metadata": {},
   "outputs": [],
   "source": [
    "template=\"\"\" Write a concise and short summary of the following speech,\n",
    "Speech :{text}\n",
    "\n",
    " \"\"\"\n",
    "prompt=PromptTemplate(input_variables=['text'],\n",
    "                      template=template)"
   ]
  },
  {
   "cell_type": "code",
   "execution_count": 38,
   "metadata": {},
   "outputs": [],
   "source": [
    "from langchain.chains.summarize import load_summarize_chain"
   ]
  },
  {
   "cell_type": "code",
   "execution_count": 39,
   "metadata": {},
   "outputs": [
    {
     "name": "stdout",
     "output_type": "stream",
     "text": [
      "\n",
      "\n",
      "\u001b[1m> Entering new StuffDocumentsChain chain...\u001b[0m\n",
      "\n",
      "\n",
      "\u001b[1m> Entering new LLMChain chain...\u001b[0m\n",
      "Prompt after formatting:\n",
      "\u001b[32;1m\u001b[1;3m Write a concise and short summary of the following speech,\n",
      "Speech :Semeh Sayadi\n",
      "Embedded Software Engineer\n",
      "♂¶ap-¶arker-altTunis, La Soukra /envel⌢pesayadisemeh@gmail.com ♂phone-alt+216 29 256 607 /linkedin-insemehSayadi\n",
      "Academic Background\n",
      "National School of Engineering of Monastir\n",
      "ENIM,MonastirSept 2020 – July 2023\n",
      "Coursework: Electrical engineering degree - Industrial computing and Instrumentation\n",
      "Preparatory Institue for Engineering studies of Monastir\n",
      "IPEIM,MonastirSept 2018 – July 2020\n",
      "Coursework: Mathematics - Physics\n",
      "High School Hedi Khefacha of Monastir\n",
      "LHKM,MonastirSept 2014 – June 2018\n",
      "Coursework: Baccalaureate in Mathematics\n",
      "Professional Experience\n",
      "Software Engineer\n",
      "Sherpa Engineering MENAembedded SW - Tunis\n",
      "Oct 2023 – Present\n",
      "- Predictive maintenance PoC (Industrial-IoT):\n",
      "–STEVAL-STWINKT1B kit - NanoEdge-AI studio - STM32 CubeAI - FSM & MLC configuration.\n",
      "- ECU LowLayer development : ( NUCLEO-H723ZG / ETHERNET/ TCP-IP protocol)\n",
      "–TCP server/FLASH/PWM/ADC/IO : modules &APIs development\n",
      "–Client(python) : Requests Development\n",
      "- Mastering Python Testing ( Pytest Automation Testing / Unittest Framework - REST API Testing - TDD).\n",
      "- RENESAS RH850-F1KM-S4-V3 microcontroller (RS-CAN FD / AUTOSAR MCAL Drivers & Davinci\n",
      "Configurator /frames troubleshooting).\n",
      "- Mastered ARM-Cortex M4/M7 architecture (Hardware Configuration - Drivers Development - Data Visu-\n",
      "alization).\n",
      "Tech: STM32CubeIDE, CS+ IDE, PyCharm, VSCode, Davinci Configurator.\n",
      "Embedded Software Engineer Intern\n",
      "Hutchinson - Electronics & IT departementInternship, Sousse\n",
      "Feb 2023 – July 2023\n",
      "- Developing the core of a portable certified 2D graphics library HAGL-V2/repo /external-link-alt\n",
      "for memory constrained embedded devices.\n",
      "- API’s Development following MISRA-C and DO-178C standards.\n",
      "- Algorithms implementation (DDA, Bresenham’s, Xiaolin Wu).\n",
      "- Graphic rendering optimization.\n",
      "- Development of Scaling/Font-Kerning for TrueType FONTS.\n",
      "Tech: Computer Graphics, DO-178C, MISRA-C ,STM32CubeIDE , Git, STM32F769i - STM32H735G.\n",
      "Software Engineer Intern\n",
      "CRMN - mechatronics departementInternship, Sousse\n",
      "June 2022 – Aug 2022\n",
      "- Conception of a Telemedicine application on a robot system Medical app/external-link-alt\n",
      "(IoT based health care services).\n",
      "- Integration, testing and securing sensitive medical data.\n",
      "Tech: Android Studio, VisualStudio Code, C++, Flutter, Firebase, UI/UX, UML.\n",
      "Engineer Intern\n",
      "SABENA Technics MIR - Production departementInternship, Monastir\n",
      "August 2021 – Sep 2021\n",
      "Semeh Sayadi - Page 1 of 2Last updated in September 2024\n",
      "\n",
      "- Provided practical experience in aeronautical maintenance (Airbus A320 family).\n",
      "- Worked on CFM56 engines and the Auxiliary Power Unit (APU).\n",
      "Tech: A320/A321-Neo, ACARS/ARINC429/CAN Protocol,Data link Routing,Skydrol, PTU,RAT Turbin\n",
      "Academic Projects\n",
      "Fall detection application December-2022\n",
      "◦Supervised classification model (KNN , SVM algorithms ),Cross-Validation (GridSearchCV)\n",
      "◦Tools: Python/PyCharm/Numpy/Pandas/Scikit-Learn/inertial sensors\n",
      "Image Processing December-2022\n",
      "◦Convolution Filters,Histogram Equalization,Thresholding,Morphological Operations.\n",
      "◦Tools: C#,GPU programming ,CUDA, OOP.\n",
      "Real-Time Face Detection October-2022\n",
      "◦Pre-trained Face Detection Model\n",
      "◦Tools: C#, EmguCV.\n",
      "M&M’s : Image Processing project April-2022\n",
      "◦Unsupervised Clustering machine learning models,Bagging.\n",
      "◦Tools: VScode, OpenCV, K-Means, Random Forest alogrithm\n",
      "Technologies\n",
      "Programming Languages: Python, C, C++, Java, Bash.\n",
      "Operating systems: Windows, Linux, RTOS.\n",
      "Tools: PyCharm, VisualStudioCode, STM32CubeIDE, ANDROID studio, Flutter, GIT, GITLAB, JIRA.\n",
      "Protocols: CAN, LIN,UART, SPI, I2C, Bluetooth, Wi-Fi, MQTT, Lo-Ra ,TCP/IP.\n",
      "Standards: AUTOSAR-architecture, MISRA-C, DO-178.\n",
      "Machine Learning: Time Series Analysis, LLM’s, PyTorch, Numpy, Pandas, TensorFlow, Keras,\n",
      "DeepLearning(ANN/CNN/RNN/LSTM/GRU).\n",
      "Database: Firebase, MySQL.\n",
      "Testing Methodologies: Agile, Kanban , BDD, TDD.\n",
      "Languages\n",
      "English: B2 French: C1 Italian: A2 Arabic: Native\n",
      "Extracurricular Activities\n",
      "AIESEC Ruspina Feb 2018 - Dec 2020\n",
      "◦OGV Team leader\n",
      "ENIM Robotics club Sep 2020 - Oct 2021\n",
      "◦Active member\n",
      "PAPADAM/Oriento Monastir june 2019 - Sep 2023\n",
      "◦Financial Manager\n",
      "S.Sayadi/Certifications /external-link-alt\n",
      "Semeh Sayadi - Page 2 of 2\n",
      "\n",
      " \u001b[0m\n",
      "\n",
      "\u001b[1m> Finished chain.\u001b[0m\n",
      "\n",
      "\u001b[1m> Finished chain.\u001b[0m\n"
     ]
    },
    {
     "data": {
      "text/plain": [
       "'**Summary:**\\n\\nSemeh Sayadi is a skilled Embedded Software Engineer with experience in developing and deploying embedded systems, mobile applications, and machine learning solutions.\\n\\n**Key Skills:**\\n\\n- Embedded software development (STM32, ARM Cortex)\\n- IoT and industrial automation\\n- Computer vision and graphics\\n- Machine learning and deep learning\\n- Mobile application development\\n- Cloud computing and data security\\n\\n**Experience:**\\n\\n- Developed core components of a portable certified 2D graphics library for embedded devices.\\n- Implemented predictive maintenance algorithms for industrial IoT devices.\\n- Developed a telemedicine application for robot-assisted healthcare.\\n- Designed and tested algorithms for image processing, face detection, and clustering.\\n\\n**Education:**\\n\\n- National School of Engineering of Monastir (ENIM)\\n- Preparatory Institue for Engineering studies of Monastir (IPEIM)\\n\\n**Interests:**\\n\\n- Embedded systems development\\n- Machine learning and computer vision\\n- IoT and automation\\n- Mobile application development'"
      ]
     },
     "execution_count": 39,
     "metadata": {},
     "output_type": "execute_result"
    }
   ],
   "source": [
    "chain=load_summarize_chain(llm,chain_type='stuff',prompt=prompt,verbose=True)\n",
    "output_summary=chain.run(docs)\n",
    "output_summary"
   ]
  },
  {
   "cell_type": "markdown",
   "metadata": {},
   "source": [
    "### Map Reduce"
   ]
  },
  {
   "cell_type": "code",
   "execution_count": 40,
   "metadata": {},
   "outputs": [],
   "source": [
    "from langchain.text_splitter import RecursiveCharacterTextSplitter"
   ]
  },
  {
   "cell_type": "code",
   "execution_count": 41,
   "metadata": {},
   "outputs": [
    {
     "data": {
      "text/plain": [
       "[Document(metadata={'source': 'SemehSAYADI_CV.pdf', 'page': 0}, page_content='Semeh Sayadi\\nEmbedded Software Engineer\\n♂¶ap-¶arker-altTunis, La Soukra /envel⌢pesayadisemeh@gmail.com ♂phone-alt+216 29 256 607 /linkedin-insemehSayadi\\nAcademic Background\\nNational School of Engineering of Monastir\\nENIM,MonastirSept 2020 – July 2023\\nCoursework: Electrical engineering degree - Industrial computing and Instrumentation\\nPreparatory Institue for Engineering studies of Monastir\\nIPEIM,MonastirSept 2018 – July 2020\\nCoursework: Mathematics - Physics\\nHigh School Hedi Khefacha of Monastir\\nLHKM,MonastirSept 2014 – June 2018\\nCoursework: Baccalaureate in Mathematics\\nProfessional Experience\\nSoftware Engineer\\nSherpa Engineering MENAembedded SW - Tunis\\nOct 2023 – Present\\n- Predictive maintenance PoC (Industrial-IoT):\\n–STEVAL-STWINKT1B kit - NanoEdge-AI studio - STM32 CubeAI - FSM & MLC configuration.\\n- ECU LowLayer development : ( NUCLEO-H723ZG / ETHERNET/ TCP-IP protocol)\\n–TCP server/FLASH/PWM/ADC/IO : modules &APIs development\\n–Client(python) : Requests Development\\n- Mastering Python Testing ( Pytest Automation Testing / Unittest Framework - REST API Testing - TDD).\\n- RENESAS RH850-F1KM-S4-V3 microcontroller (RS-CAN FD / AUTOSAR MCAL Drivers & Davinci\\nConfigurator /frames troubleshooting).\\n- Mastered ARM-Cortex M4/M7 architecture (Hardware Configuration - Drivers Development - Data Visu-\\nalization).\\nTech: STM32CubeIDE, CS+ IDE, PyCharm, VSCode, Davinci Configurator.\\nEmbedded Software Engineer Intern\\nHutchinson - Electronics & IT departementInternship, Sousse\\nFeb 2023 – July 2023\\n- Developing the core of a portable certified 2D graphics library HAGL-V2/repo /external-link-alt\\nfor memory constrained embedded devices.\\n- API’s Development following MISRA-C and DO-178C standards.\\n- Algorithms implementation (DDA, Bresenham’s, Xiaolin Wu).\\n- Graphic rendering optimization.\\n- Development of Scaling/Font-Kerning for TrueType FONTS.\\nTech: Computer Graphics, DO-178C, MISRA-C ,STM32CubeIDE , Git, STM32F769i - STM32H735G.\\nSoftware Engineer Intern\\nCRMN - mechatronics departementInternship, Sousse\\nJune 2022 – Aug 2022\\n- Conception of a Telemedicine application on a robot system Medical app/external-link-alt\\n(IoT based health care services).\\n- Integration, testing and securing sensitive medical data.\\nTech: Android Studio, VisualStudio Code, C++, Flutter, Firebase, UI/UX, UML.\\nEngineer Intern\\nSABENA Technics MIR - Production departementInternship, Monastir\\nAugust 2021 – Sep 2021\\nSemeh Sayadi - Page 1 of 2Last updated in September 2024'),\n",
       " Document(metadata={'source': 'SemehSAYADI_CV.pdf', 'page': 1}, page_content='- Provided practical experience in aeronautical maintenance (Airbus A320 family).\\n- Worked on CFM56 engines and the Auxiliary Power Unit (APU).\\nTech: A320/A321-Neo, ACARS/ARINC429/CAN Protocol,Data link Routing,Skydrol, PTU,RAT Turbin\\nAcademic Projects\\nFall detection application December-2022\\n◦Supervised classification model (KNN , SVM algorithms ),Cross-Validation (GridSearchCV)\\n◦Tools: Python/PyCharm/Numpy/Pandas/Scikit-Learn/inertial sensors\\nImage Processing December-2022\\n◦Convolution Filters,Histogram Equalization,Thresholding,Morphological Operations.\\n◦Tools: C#,GPU programming ,CUDA, OOP.\\nReal-Time Face Detection October-2022\\n◦Pre-trained Face Detection Model\\n◦Tools: C#, EmguCV.\\nM&M’s : Image Processing project April-2022\\n◦Unsupervised Clustering machine learning models,Bagging.\\n◦Tools: VScode, OpenCV, K-Means, Random Forest alogrithm\\nTechnologies\\nProgramming Languages: Python, C, C++, Java, Bash.\\nOperating systems: Windows, Linux, RTOS.\\nTools: PyCharm, VisualStudioCode, STM32CubeIDE, ANDROID studio, Flutter, GIT, GITLAB, JIRA.\\nProtocols: CAN, LIN,UART, SPI, I2C, Bluetooth, Wi-Fi, MQTT, Lo-Ra ,TCP/IP.\\nStandards: AUTOSAR-architecture, MISRA-C, DO-178.\\nMachine Learning: Time Series Analysis, LLM’s, PyTorch, Numpy, Pandas, TensorFlow, Keras,\\nDeepLearning(ANN/CNN/RNN/LSTM/GRU).\\nDatabase: Firebase, MySQL.\\nTesting Methodologies: Agile, Kanban , BDD, TDD.\\nLanguages\\nEnglish: B2 French: C1 Italian: A2 Arabic: Native\\nExtracurricular Activities\\nAIESEC Ruspina Feb 2018 - Dec 2020\\n◦OGV Team leader\\nENIM Robotics club Sep 2020 - Oct 2021\\n◦Active member\\nPAPADAM/Oriento Monastir june 2019 - Sep 2023\\n◦Financial Manager\\nS.Sayadi/Certifications /external-link-alt\\nSemeh Sayadi - Page 2 of 2')]"
      ]
     },
     "execution_count": 41,
     "metadata": {},
     "output_type": "execute_result"
    }
   ],
   "source": [
    "docs"
   ]
  },
  {
   "cell_type": "code",
   "execution_count": 42,
   "metadata": {},
   "outputs": [
    {
     "data": {
      "text/plain": [
       "[Document(metadata={'source': 'SemehSAYADI_CV.pdf', 'page': 0}, page_content='Semeh Sayadi\\nEmbedded Software Engineer\\n♂¶ap-¶arker-altTunis, La Soukra /envel⌢pesayadisemeh@gmail.com ♂phone-alt+216 29 256 607 /linkedin-insemehSayadi\\nAcademic Background\\nNational School of Engineering of Monastir\\nENIM,MonastirSept 2020 – July 2023\\nCoursework: Electrical engineering degree - Industrial computing and Instrumentation\\nPreparatory Institue for Engineering studies of Monastir\\nIPEIM,MonastirSept 2018 – July 2020\\nCoursework: Mathematics - Physics\\nHigh School Hedi Khefacha of Monastir\\nLHKM,MonastirSept 2014 – June 2018\\nCoursework: Baccalaureate in Mathematics\\nProfessional Experience\\nSoftware Engineer\\nSherpa Engineering MENAembedded SW - Tunis\\nOct 2023 – Present\\n- Predictive maintenance PoC (Industrial-IoT):\\n–STEVAL-STWINKT1B kit - NanoEdge-AI studio - STM32 CubeAI - FSM & MLC configuration.\\n- ECU LowLayer development : ( NUCLEO-H723ZG / ETHERNET/ TCP-IP protocol)\\n–TCP server/FLASH/PWM/ADC/IO : modules &APIs development\\n–Client(python) : Requests Development\\n- Mastering Python Testing ( Pytest Automation Testing / Unittest Framework - REST API Testing - TDD).\\n- RENESAS RH850-F1KM-S4-V3 microcontroller (RS-CAN FD / AUTOSAR MCAL Drivers & Davinci\\nConfigurator /frames troubleshooting).\\n- Mastered ARM-Cortex M4/M7 architecture (Hardware Configuration - Drivers Development - Data Visu-\\nalization).\\nTech: STM32CubeIDE, CS+ IDE, PyCharm, VSCode, Davinci Configurator.\\nEmbedded Software Engineer Intern\\nHutchinson - Electronics & IT departementInternship, Sousse\\nFeb 2023 – July 2023\\n- Developing the core of a portable certified 2D graphics library HAGL-V2/repo /external-link-alt\\nfor memory constrained embedded devices.\\n- API’s Development following MISRA-C and DO-178C standards.\\n- Algorithms implementation (DDA, Bresenham’s, Xiaolin Wu).\\n- Graphic rendering optimization.\\n- Development of Scaling/Font-Kerning for TrueType FONTS.\\nTech: Computer Graphics, DO-178C, MISRA-C ,STM32CubeIDE , Git, STM32F769i - STM32H735G.\\nSoftware Engineer Intern'),\n",
       " Document(metadata={'source': 'SemehSAYADI_CV.pdf', 'page': 0}, page_content='Software Engineer Intern\\nCRMN - mechatronics departementInternship, Sousse\\nJune 2022 – Aug 2022\\n- Conception of a Telemedicine application on a robot system Medical app/external-link-alt\\n(IoT based health care services).\\n- Integration, testing and securing sensitive medical data.\\nTech: Android Studio, VisualStudio Code, C++, Flutter, Firebase, UI/UX, UML.\\nEngineer Intern\\nSABENA Technics MIR - Production departementInternship, Monastir\\nAugust 2021 – Sep 2021\\nSemeh Sayadi - Page 1 of 2Last updated in September 2024'),\n",
       " Document(metadata={'source': 'SemehSAYADI_CV.pdf', 'page': 1}, page_content='- Provided practical experience in aeronautical maintenance (Airbus A320 family).\\n- Worked on CFM56 engines and the Auxiliary Power Unit (APU).\\nTech: A320/A321-Neo, ACARS/ARINC429/CAN Protocol,Data link Routing,Skydrol, PTU,RAT Turbin\\nAcademic Projects\\nFall detection application December-2022\\n◦Supervised classification model (KNN , SVM algorithms ),Cross-Validation (GridSearchCV)\\n◦Tools: Python/PyCharm/Numpy/Pandas/Scikit-Learn/inertial sensors\\nImage Processing December-2022\\n◦Convolution Filters,Histogram Equalization,Thresholding,Morphological Operations.\\n◦Tools: C#,GPU programming ,CUDA, OOP.\\nReal-Time Face Detection October-2022\\n◦Pre-trained Face Detection Model\\n◦Tools: C#, EmguCV.\\nM&M’s : Image Processing project April-2022\\n◦Unsupervised Clustering machine learning models,Bagging.\\n◦Tools: VScode, OpenCV, K-Means, Random Forest alogrithm\\nTechnologies\\nProgramming Languages: Python, C, C++, Java, Bash.\\nOperating systems: Windows, Linux, RTOS.\\nTools: PyCharm, VisualStudioCode, STM32CubeIDE, ANDROID studio, Flutter, GIT, GITLAB, JIRA.\\nProtocols: CAN, LIN,UART, SPI, I2C, Bluetooth, Wi-Fi, MQTT, Lo-Ra ,TCP/IP.\\nStandards: AUTOSAR-architecture, MISRA-C, DO-178.\\nMachine Learning: Time Series Analysis, LLM’s, PyTorch, Numpy, Pandas, TensorFlow, Keras,\\nDeepLearning(ANN/CNN/RNN/LSTM/GRU).\\nDatabase: Firebase, MySQL.\\nTesting Methodologies: Agile, Kanban , BDD, TDD.\\nLanguages\\nEnglish: B2 French: C1 Italian: A2 Arabic: Native\\nExtracurricular Activities\\nAIESEC Ruspina Feb 2018 - Dec 2020\\n◦OGV Team leader\\nENIM Robotics club Sep 2020 - Oct 2021\\n◦Active member\\nPAPADAM/Oriento Monastir june 2019 - Sep 2023\\n◦Financial Manager\\nS.Sayadi/Certifications /external-link-alt\\nSemeh Sayadi - Page 2 of 2')]"
      ]
     },
     "execution_count": 42,
     "metadata": {},
     "output_type": "execute_result"
    }
   ],
   "source": [
    "final_documents=RecursiveCharacterTextSplitter(chunk_size=2000,chunk_overlap=100).split_documents(docs)\n",
    "final_documents"
   ]
  },
  {
   "cell_type": "code",
   "execution_count": 43,
   "metadata": {},
   "outputs": [
    {
     "data": {
      "text/plain": [
       "3"
      ]
     },
     "execution_count": 43,
     "metadata": {},
     "output_type": "execute_result"
    }
   ],
   "source": [
    "len(final_documents)"
   ]
  },
  {
   "cell_type": "code",
   "execution_count": 44,
   "metadata": {},
   "outputs": [],
   "source": [
    "chunks_prompt=\"\"\"\n",
    "Please summarize the below speech:\n",
    "Speech:`{text}'\n",
    "Summary:\n",
    "\"\"\"\n",
    "map_prompt_template=PromptTemplate(input_variables=['text'],\n",
    "                                    template=chunks_prompt)"
   ]
  },
  {
   "cell_type": "code",
   "execution_count": 45,
   "metadata": {},
   "outputs": [
    {
     "data": {
      "text/plain": [
       "PromptTemplate(input_variables=['text'], input_types={}, partial_variables={}, template='\\nProvide the final summary of the entire speech with these important points.\\nAdd a Motivation Title,Start the precise summary with an introduction and provide the summary in number \\npoints for the speech.\\nSpeech:{text}\\n\\n')"
      ]
     },
     "execution_count": 45,
     "metadata": {},
     "output_type": "execute_result"
    }
   ],
   "source": [
    "final_prompt='''\n",
    "Provide the final summary of the entire speech with these important points.\n",
    "Add a Motivation Title,Start the precise summary with an introduction and provide the summary in number \n",
    "points for the speech.\n",
    "Speech:{text}\n",
    "\n",
    "'''\n",
    "final_prompt_template=PromptTemplate(input_variables=['text'],template=final_prompt)\n",
    "final_prompt_template"
   ]
  },
  {
   "cell_type": "code",
   "execution_count": 46,
   "metadata": {},
   "outputs": [
    {
     "name": "stdout",
     "output_type": "stream",
     "text": [
      "\n",
      "\n",
      "\u001b[1m> Entering new MapReduceDocumentsChain chain...\u001b[0m\n",
      "\n",
      "\n",
      "\u001b[1m> Entering new LLMChain chain...\u001b[0m\n",
      "Prompt after formatting:\n",
      "\u001b[32;1m\u001b[1;3m\n",
      "Please summarize the below speech:\n",
      "Speech:`Semeh Sayadi\n",
      "Embedded Software Engineer\n",
      "♂¶ap-¶arker-altTunis, La Soukra /envel⌢pesayadisemeh@gmail.com ♂phone-alt+216 29 256 607 /linkedin-insemehSayadi\n",
      "Academic Background\n",
      "National School of Engineering of Monastir\n",
      "ENIM,MonastirSept 2020 – July 2023\n",
      "Coursework: Electrical engineering degree - Industrial computing and Instrumentation\n",
      "Preparatory Institue for Engineering studies of Monastir\n",
      "IPEIM,MonastirSept 2018 – July 2020\n",
      "Coursework: Mathematics - Physics\n",
      "High School Hedi Khefacha of Monastir\n",
      "LHKM,MonastirSept 2014 – June 2018\n",
      "Coursework: Baccalaureate in Mathematics\n",
      "Professional Experience\n",
      "Software Engineer\n",
      "Sherpa Engineering MENAembedded SW - Tunis\n",
      "Oct 2023 – Present\n",
      "- Predictive maintenance PoC (Industrial-IoT):\n",
      "–STEVAL-STWINKT1B kit - NanoEdge-AI studio - STM32 CubeAI - FSM & MLC configuration.\n",
      "- ECU LowLayer development : ( NUCLEO-H723ZG / ETHERNET/ TCP-IP protocol)\n",
      "–TCP server/FLASH/PWM/ADC/IO : modules &APIs development\n",
      "–Client(python) : Requests Development\n",
      "- Mastering Python Testing ( Pytest Automation Testing / Unittest Framework - REST API Testing - TDD).\n",
      "- RENESAS RH850-F1KM-S4-V3 microcontroller (RS-CAN FD / AUTOSAR MCAL Drivers & Davinci\n",
      "Configurator /frames troubleshooting).\n",
      "- Mastered ARM-Cortex M4/M7 architecture (Hardware Configuration - Drivers Development - Data Visu-\n",
      "alization).\n",
      "Tech: STM32CubeIDE, CS+ IDE, PyCharm, VSCode, Davinci Configurator.\n",
      "Embedded Software Engineer Intern\n",
      "Hutchinson - Electronics & IT departementInternship, Sousse\n",
      "Feb 2023 – July 2023\n",
      "- Developing the core of a portable certified 2D graphics library HAGL-V2/repo /external-link-alt\n",
      "for memory constrained embedded devices.\n",
      "- API’s Development following MISRA-C and DO-178C standards.\n",
      "- Algorithms implementation (DDA, Bresenham’s, Xiaolin Wu).\n",
      "- Graphic rendering optimization.\n",
      "- Development of Scaling/Font-Kerning for TrueType FONTS.\n",
      "Tech: Computer Graphics, DO-178C, MISRA-C ,STM32CubeIDE , Git, STM32F769i - STM32H735G.\n",
      "Software Engineer Intern'\n",
      "Summary:\n",
      "\u001b[0m\n",
      "Prompt after formatting:\n",
      "\u001b[32;1m\u001b[1;3m\n",
      "Please summarize the below speech:\n",
      "Speech:`Software Engineer Intern\n",
      "CRMN - mechatronics departementInternship, Sousse\n",
      "June 2022 – Aug 2022\n",
      "- Conception of a Telemedicine application on a robot system Medical app/external-link-alt\n",
      "(IoT based health care services).\n",
      "- Integration, testing and securing sensitive medical data.\n",
      "Tech: Android Studio, VisualStudio Code, C++, Flutter, Firebase, UI/UX, UML.\n",
      "Engineer Intern\n",
      "SABENA Technics MIR - Production departementInternship, Monastir\n",
      "August 2021 – Sep 2021\n",
      "Semeh Sayadi - Page 1 of 2Last updated in September 2024'\n",
      "Summary:\n",
      "\u001b[0m\n",
      "Prompt after formatting:\n",
      "\u001b[32;1m\u001b[1;3m\n",
      "Please summarize the below speech:\n",
      "Speech:`- Provided practical experience in aeronautical maintenance (Airbus A320 family).\n",
      "- Worked on CFM56 engines and the Auxiliary Power Unit (APU).\n",
      "Tech: A320/A321-Neo, ACARS/ARINC429/CAN Protocol,Data link Routing,Skydrol, PTU,RAT Turbin\n",
      "Academic Projects\n",
      "Fall detection application December-2022\n",
      "◦Supervised classification model (KNN , SVM algorithms ),Cross-Validation (GridSearchCV)\n",
      "◦Tools: Python/PyCharm/Numpy/Pandas/Scikit-Learn/inertial sensors\n",
      "Image Processing December-2022\n",
      "◦Convolution Filters,Histogram Equalization,Thresholding,Morphological Operations.\n",
      "◦Tools: C#,GPU programming ,CUDA, OOP.\n",
      "Real-Time Face Detection October-2022\n",
      "◦Pre-trained Face Detection Model\n",
      "◦Tools: C#, EmguCV.\n",
      "M&M’s : Image Processing project April-2022\n",
      "◦Unsupervised Clustering machine learning models,Bagging.\n",
      "◦Tools: VScode, OpenCV, K-Means, Random Forest alogrithm\n",
      "Technologies\n",
      "Programming Languages: Python, C, C++, Java, Bash.\n",
      "Operating systems: Windows, Linux, RTOS.\n",
      "Tools: PyCharm, VisualStudioCode, STM32CubeIDE, ANDROID studio, Flutter, GIT, GITLAB, JIRA.\n",
      "Protocols: CAN, LIN,UART, SPI, I2C, Bluetooth, Wi-Fi, MQTT, Lo-Ra ,TCP/IP.\n",
      "Standards: AUTOSAR-architecture, MISRA-C, DO-178.\n",
      "Machine Learning: Time Series Analysis, LLM’s, PyTorch, Numpy, Pandas, TensorFlow, Keras,\n",
      "DeepLearning(ANN/CNN/RNN/LSTM/GRU).\n",
      "Database: Firebase, MySQL.\n",
      "Testing Methodologies: Agile, Kanban , BDD, TDD.\n",
      "Languages\n",
      "English: B2 French: C1 Italian: A2 Arabic: Native\n",
      "Extracurricular Activities\n",
      "AIESEC Ruspina Feb 2018 - Dec 2020\n",
      "◦OGV Team leader\n",
      "ENIM Robotics club Sep 2020 - Oct 2021\n",
      "◦Active member\n",
      "PAPADAM/Oriento Monastir june 2019 - Sep 2023\n",
      "◦Financial Manager\n",
      "S.Sayadi/Certifications /external-link-alt\n",
      "Semeh Sayadi - Page 2 of 2'\n",
      "Summary:\n",
      "\u001b[0m\n",
      "\n",
      "\u001b[1m> Finished chain.\u001b[0m\n",
      "\n",
      "\n",
      "\u001b[1m> Entering new LLMChain chain...\u001b[0m\n",
      "Prompt after formatting:\n",
      "\u001b[32;1m\u001b[1;3m\n",
      "Provide the final summary of the entire speech with these important points.\n",
      "Add a Motivation Title,Start the precise summary with an introduction and provide the summary in number \n",
      "points for the speech.\n",
      "Speech:## Summary:\n",
      "\n",
      "**Name:** Semeh Sayadi\n",
      "\n",
      "**Profession:** Embedded Software Engineer\n",
      "\n",
      "**Education:**\n",
      "\n",
      "- National School of Engineering of Monastir (ENIM), Monastir (2020-2023) - Electrical Engineering degree\n",
      "- Preparatory Institute for Engineering Studies of Monastir (IPEIM), Monastir (2018-2020) - Mathematics and Physics\n",
      "- High School Hedi Khefacha of Monastir (2014-2018) - Baccalaureate in Mathematics\n",
      "\n",
      "**Experience:**\n",
      "\n",
      "**Sherpa Engineering MENA (Oct 2023 - Present)**\n",
      "\n",
      "- Developed predictive maintenance software for industrial IoT devices using STM32 microcontrollers.\n",
      "- Developed low-level code for ECU systems.\n",
      "- Developed APIs and modules for TCP, FLASH, PWM, ADC, and I/O.\n",
      "- Automated testing using Python and various frameworks.\n",
      "- Worked with ARM Cortex M4/M7 microcontrollers.\n",
      "\n",
      "\n",
      "**Hutchinson (Feb 2023 - July 2023)**\n",
      "\n",
      "- Developed core components of a portable graphic library for embedded devices.\n",
      "- Developed APIs following MISRA-C and DO-178C standards.\n",
      "- Implemented algorithms for drawing shapes and optimizing graphics.\n",
      "- Developed scaling and font-kerning features for TrueType fonts.\n",
      "\n",
      "\n",
      "**Skills:**\n",
      "\n",
      "- Embedded software development\n",
      "- Predictive maintenance\n",
      "- Microcontroller programming (ARM Cortex M)\n",
      "- Computer graphics\n",
      "- API development\n",
      "- Testing and automation\n",
      "- Linux and Git\n",
      "\n",
      "**Tools:**\n",
      "\n",
      "- STM32CubeIDE\n",
      "- CS+ IDE\n",
      "- PyCharm\n",
      "- VSCode\n",
      "- Davinci Configurator\n",
      "\n",
      "**Languages:**\n",
      "\n",
      "- Arabic\n",
      "- French\n",
      "- English\n",
      "\n",
      "**Summary:**\n",
      "\n",
      "The speaker has experience as a Software Engineer Intern in two internships:\n",
      "\n",
      "**1. CRMN - Mechatronics Department Internship (June 2022 - Aug 2022)**\n",
      "\n",
      "- Developed a Telemedicine application on a robot system for IoT-based healthcare services.\n",
      "- Integrated, tested, and secured sensitive medical data.\n",
      "\n",
      "**2. SABENA Technics MIR - Production Department Internship (August 2021 - Sep 2021)**\n",
      "\n",
      "The provided text does not contain any information regarding the responsibilities or projects undertaken during this internship.\n",
      "\n",
      "## Summary:\n",
      "\n",
      "**Academic Background & Skills:**\n",
      "\n",
      "- Extensive experience in aeronautical maintenance, focusing on Airbus A320 family aircraft and CFM56 engines.\n",
      "- Strong background in computer science, with proficiency in Python, C#, C++, Java, Bash, and other programming languages.\n",
      "- Expertise in various operating systems, including Windows, Linux, and RTOS.\n",
      "- Familiarity with various tools like PyCharm, Visual Studio Code, STM32CubeIDE, ANDROID Studio, Flutter, GIT, GITLAB, and JIRA.\n",
      "- Expertise in machine learning, including time series analysis, language models, and deep learning.\n",
      "\n",
      "**Projects & Achievements:**\n",
      "\n",
      "- Developed applications for fall detection, image processing, real-time face detection, and unsupervised clustering.\n",
      "- Led a team as the OGV Team Leader in the AIESEC Ruspina organization.\n",
      "- Active member of the ENIM Robotics club and held the position of Financial Manager in the PAPADAM/Oriento Monastir organization.\n",
      "\n",
      "**Technical Expertise:**\n",
      "\n",
      "- Proficiency in multiple communication protocols like CAN, LIN, UART, SPI, I2C, Bluetooth, Wi-Fi, MQTT, Lo-Ra, TCP/IP.\n",
      "- Familiarity with industry standards like AUTOSAR-architecture, MISRA-C, and DO-178.\n",
      "\n",
      "**Languages:**\n",
      "\n",
      "- Fluent in English (B2), French (C1), Italian (A2), and Arabic (Native).\n",
      "\n",
      "\u001b[0m\n",
      "\n",
      "\u001b[1m> Finished chain.\u001b[0m\n",
      "\n",
      "\u001b[1m> Finished chain.\u001b[0m\n"
     ]
    },
    {
     "data": {
      "text/plain": [
       "'## **Motivation: Shaping the Future Through Technology**\\n\\n**Summary:**\\n\\n**1. Academic Background & Skills:**\\n- Extensive experience in aeronautical maintenance.\\n- Strong background in computer science.\\n- Expertise in various programming languages and operating systems.\\n\\n\\n**2. Projects & Achievements:**\\n- Development of applications for healthcare, image processing, and machine learning.\\n- Leadership experience in student organizations.\\n\\n\\n**3. Technical Expertise:**\\n- Proficiency in multiple communication protocols and industry standards.\\n- Familiarity with various tools and technologies.\\n\\n\\n**4. Language Proficiency:**\\n- Fluent in English, French, Italian, and Arabic.\\n\\n\\n**5. Experience & Achievements:**\\n- Internship experience in telemedicine, robotics, and embedded software development.\\n- Developed predictive maintenance software for industrial devices.\\n- Developed core components of a portable graphic library for embedded devices.'"
      ]
     },
     "execution_count": 46,
     "metadata": {},
     "output_type": "execute_result"
    }
   ],
   "source": [
    "summary_chain=load_summarize_chain(\n",
    "    llm=llm,\n",
    "    chain_type=\"map_reduce\",\n",
    "    map_prompt=map_prompt_template,\n",
    "    combine_prompt=final_prompt_template,\n",
    "    verbose=True\n",
    ")\n",
    "\n",
    "output=summary_chain.run(final_documents)\n",
    "output"
   ]
  },
  {
   "cell_type": "markdown",
   "metadata": {},
   "source": []
  },
  {
   "cell_type": "markdown",
   "metadata": {},
   "source": [
    "### REFINE"
   ]
  },
  {
   "cell_type": "code",
   "execution_count": 47,
   "metadata": {},
   "outputs": [
    {
     "name": "stdout",
     "output_type": "stream",
     "text": [
      "\n",
      "\n",
      "\u001b[1m> Entering new RefineDocumentsChain chain...\u001b[0m\n",
      "\n",
      "\n",
      "\u001b[1m> Entering new LLMChain chain...\u001b[0m\n",
      "Prompt after formatting:\n",
      "\u001b[32;1m\u001b[1;3mWrite a concise summary of the following:\n",
      "\n",
      "\n",
      "\"Semeh Sayadi\n",
      "Embedded Software Engineer\n",
      "♂¶ap-¶arker-altTunis, La Soukra /envel⌢pesayadisemeh@gmail.com ♂phone-alt+216 29 256 607 /linkedin-insemehSayadi\n",
      "Academic Background\n",
      "National School of Engineering of Monastir\n",
      "ENIM,MonastirSept 2020 – July 2023\n",
      "Coursework: Electrical engineering degree - Industrial computing and Instrumentation\n",
      "Preparatory Institue for Engineering studies of Monastir\n",
      "IPEIM,MonastirSept 2018 – July 2020\n",
      "Coursework: Mathematics - Physics\n",
      "High School Hedi Khefacha of Monastir\n",
      "LHKM,MonastirSept 2014 – June 2018\n",
      "Coursework: Baccalaureate in Mathematics\n",
      "Professional Experience\n",
      "Software Engineer\n",
      "Sherpa Engineering MENAembedded SW - Tunis\n",
      "Oct 2023 – Present\n",
      "- Predictive maintenance PoC (Industrial-IoT):\n",
      "–STEVAL-STWINKT1B kit - NanoEdge-AI studio - STM32 CubeAI - FSM & MLC configuration.\n",
      "- ECU LowLayer development : ( NUCLEO-H723ZG / ETHERNET/ TCP-IP protocol)\n",
      "–TCP server/FLASH/PWM/ADC/IO : modules &APIs development\n",
      "–Client(python) : Requests Development\n",
      "- Mastering Python Testing ( Pytest Automation Testing / Unittest Framework - REST API Testing - TDD).\n",
      "- RENESAS RH850-F1KM-S4-V3 microcontroller (RS-CAN FD / AUTOSAR MCAL Drivers & Davinci\n",
      "Configurator /frames troubleshooting).\n",
      "- Mastered ARM-Cortex M4/M7 architecture (Hardware Configuration - Drivers Development - Data Visu-\n",
      "alization).\n",
      "Tech: STM32CubeIDE, CS+ IDE, PyCharm, VSCode, Davinci Configurator.\n",
      "Embedded Software Engineer Intern\n",
      "Hutchinson - Electronics & IT departementInternship, Sousse\n",
      "Feb 2023 – July 2023\n",
      "- Developing the core of a portable certified 2D graphics library HAGL-V2/repo /external-link-alt\n",
      "for memory constrained embedded devices.\n",
      "- API’s Development following MISRA-C and DO-178C standards.\n",
      "- Algorithms implementation (DDA, Bresenham’s, Xiaolin Wu).\n",
      "- Graphic rendering optimization.\n",
      "- Development of Scaling/Font-Kerning for TrueType FONTS.\n",
      "Tech: Computer Graphics, DO-178C, MISRA-C ,STM32CubeIDE , Git, STM32F769i - STM32H735G.\n",
      "Software Engineer Intern\"\n",
      "\n",
      "\n",
      "CONCISE SUMMARY:\u001b[0m\n",
      "\n",
      "\u001b[1m> Finished chain.\u001b[0m\n",
      "\n",
      "\n",
      "\u001b[1m> Entering new LLMChain chain...\u001b[0m\n",
      "Prompt after formatting:\n",
      "\u001b[32;1m\u001b[1;3mYour job is to produce a final summary.\n",
      "We have provided an existing summary up to a certain point: **Semih Sayadi** is an Embedded Software Engineer with experience in developing and deploying embedded software solutions for industrial and consumer applications.\n",
      "\n",
      "**Education:**\n",
      "\n",
      "- National School of Engineering of Monastir (ENIM), Monastir (2020-2023) - Electrical Engineering degree.\n",
      "- Preparatory Institue for Engineering studies of Monastir (IPEIM), Monastir (2018-2020) - Mathematics and Physics.\n",
      "\n",
      "**Professional Experience:**\n",
      "\n",
      "- **Software Engineer** at Sherpa Engineering MENA (2023-Present) - Developed software for predictive maintenance, ECU low-layer development, and Python client development.\n",
      "- **Embedded Software Engineer Intern** at Hutchinson (2023) - Developed core components of a portable certified 2D graphics library for embedded devices.\n",
      "\n",
      "**Skills:**\n",
      "\n",
      "- Embedded software development\n",
      "- IoT and Industrial automation\n",
      "- Microcontrollers (ARM Cortex M)\n",
      "- Communication protocols (TCP/IP, RS-CAN)\n",
      "- Computer graphics and algorithms\n",
      "- Software testing and development methodologies\n",
      "\n",
      "**Tools:**\n",
      "\n",
      "- STM32CubeIDE, CS+ IDE, PyCharm, VSCode, Davinci Configurator\n",
      "We have the opportunity to refine the existing summary (only if needed) with some more context below.\n",
      "------------\n",
      "Software Engineer Intern\n",
      "CRMN - mechatronics departementInternship, Sousse\n",
      "June 2022 – Aug 2022\n",
      "- Conception of a Telemedicine application on a robot system Medical app/external-link-alt\n",
      "(IoT based health care services).\n",
      "- Integration, testing and securing sensitive medical data.\n",
      "Tech: Android Studio, VisualStudio Code, C++, Flutter, Firebase, UI/UX, UML.\n",
      "Engineer Intern\n",
      "SABENA Technics MIR - Production departementInternship, Monastir\n",
      "August 2021 – Sep 2021\n",
      "Semeh Sayadi - Page 1 of 2Last updated in September 2024\n",
      "------------\n",
      "Given the new context, refine the original summary.\n",
      "If the context isn't useful, return the original summary.\u001b[0m\n",
      "\n",
      "\u001b[1m> Finished chain.\u001b[0m\n",
      "\n",
      "\n",
      "\u001b[1m> Entering new LLMChain chain...\u001b[0m\n",
      "Prompt after formatting:\n",
      "\u001b[32;1m\u001b[1;3mYour job is to produce a final summary.\n",
      "We have provided an existing summary up to a certain point: The provided context does not contain any information relevant to refining the original summary. Therefore, I recommend returning the original summary.\n",
      "We have the opportunity to refine the existing summary (only if needed) with some more context below.\n",
      "------------\n",
      "- Provided practical experience in aeronautical maintenance (Airbus A320 family).\n",
      "- Worked on CFM56 engines and the Auxiliary Power Unit (APU).\n",
      "Tech: A320/A321-Neo, ACARS/ARINC429/CAN Protocol,Data link Routing,Skydrol, PTU,RAT Turbin\n",
      "Academic Projects\n",
      "Fall detection application December-2022\n",
      "◦Supervised classification model (KNN , SVM algorithms ),Cross-Validation (GridSearchCV)\n",
      "◦Tools: Python/PyCharm/Numpy/Pandas/Scikit-Learn/inertial sensors\n",
      "Image Processing December-2022\n",
      "◦Convolution Filters,Histogram Equalization,Thresholding,Morphological Operations.\n",
      "◦Tools: C#,GPU programming ,CUDA, OOP.\n",
      "Real-Time Face Detection October-2022\n",
      "◦Pre-trained Face Detection Model\n",
      "◦Tools: C#, EmguCV.\n",
      "M&M’s : Image Processing project April-2022\n",
      "◦Unsupervised Clustering machine learning models,Bagging.\n",
      "◦Tools: VScode, OpenCV, K-Means, Random Forest alogrithm\n",
      "Technologies\n",
      "Programming Languages: Python, C, C++, Java, Bash.\n",
      "Operating systems: Windows, Linux, RTOS.\n",
      "Tools: PyCharm, VisualStudioCode, STM32CubeIDE, ANDROID studio, Flutter, GIT, GITLAB, JIRA.\n",
      "Protocols: CAN, LIN,UART, SPI, I2C, Bluetooth, Wi-Fi, MQTT, Lo-Ra ,TCP/IP.\n",
      "Standards: AUTOSAR-architecture, MISRA-C, DO-178.\n",
      "Machine Learning: Time Series Analysis, LLM’s, PyTorch, Numpy, Pandas, TensorFlow, Keras,\n",
      "DeepLearning(ANN/CNN/RNN/LSTM/GRU).\n",
      "Database: Firebase, MySQL.\n",
      "Testing Methodologies: Agile, Kanban , BDD, TDD.\n",
      "Languages\n",
      "English: B2 French: C1 Italian: A2 Arabic: Native\n",
      "Extracurricular Activities\n",
      "AIESEC Ruspina Feb 2018 - Dec 2020\n",
      "◦OGV Team leader\n",
      "ENIM Robotics club Sep 2020 - Oct 2021\n",
      "◦Active member\n",
      "PAPADAM/Oriento Monastir june 2019 - Sep 2023\n",
      "◦Financial Manager\n",
      "S.Sayadi/Certifications /external-link-alt\n",
      "Semeh Sayadi - Page 2 of 2\n",
      "------------\n",
      "Given the new context, refine the original summary.\n",
      "If the context isn't useful, return the original summary.\u001b[0m\n",
      "\n",
      "\u001b[1m> Finished chain.\u001b[0m\n",
      "\n",
      "\u001b[1m> Finished chain.\u001b[0m\n"
     ]
    },
    {
     "data": {
      "text/plain": [
       "'## Refined Summary:\\n\\n**Passionate Aerospace Engineer with Experience in Aeronautical Maintenance and Machine Learning Expertise**\\n\\nA skilled and motivated engineer with practical experience in aeronautical maintenance and a deep understanding of machine learning concepts. Skilled in deploying supervised and unsupervised learning algorithms for image processing, classification, and clustering.\\n\\n**Relevant Experience:**\\n\\n- **Aeronautical Maintenance:** Worked on Airbus A320 family aircraft, handling CFM56 engines and the Auxiliary Power Unit (APU).\\n- **Machine Learning Expertise:** Developed and implemented machine learning models for image processing, classification, and clustering applications, utilizing technologies such as Python, Scikit-learn, TensorFlow, and Keras.\\n\\n**Academic Projects:**\\n\\n- Developed a **fall detection application** using supervised classification models and cross-validation techniques.\\n- Implemented **image processing algorithms** for convolution filters, histogram equalization, thresholding, and morphological operations.\\n- Created a **real-time face detection system** using pre-trained models and C# programming.\\n\\n**Technical Skills:**\\n\\n- Programming Languages: Python, C, C++, Java, Bash\\n- Operating Systems: Windows, Linux, RTOS\\n- Tools: PyCharm, Visual Studio Code, STM32CubeIDE, ANDROID Studio, Flutter, GIT, GITLAB, JIRA\\n- Protocols: CAN, LIN, UART, SPI, I2C, Bluetooth, Wi-Fi, MQTT, Lo-Ra, TCP/IP\\n- Standards: AUTOSAR-architecture, MISRA-C, DO-178\\n\\n**Additional Expertise:**\\n\\n- Agile, Kanban, BDD, TDD methodologies\\n- Knowledge of various databases and testing methodologies\\n- Multilingual in English, French, Italian, and Arabic\\n\\n**Passion and Interests:**\\n\\n- Aerospace engineering and technology\\n- Machine learning and its applications\\n- Robotics and automation\\n\\n**For a complete list of projects and skills, please refer to the original summary.**'"
      ]
     },
     "execution_count": 47,
     "metadata": {},
     "output_type": "execute_result"
    }
   ],
   "source": [
    "chain=load_summarize_chain(\n",
    "    llm=llm,\n",
    "    chain_type=\"refine\",\n",
    "    verbose=True\n",
    ")\n",
    "output_summary=chain.run(final_documents)\n",
    "output_summary"
   ]
  },
  {
   "cell_type": "code",
   "execution_count": null,
   "metadata": {},
   "outputs": [],
   "source": []
  },
  {
   "cell_type": "code",
   "execution_count": null,
   "metadata": {},
   "outputs": [],
   "source": []
  }
 ],
 "metadata": {
  "kernelspec": {
   "display_name": "Python 3",
   "language": "python",
   "name": "python3"
  },
  "language_info": {
   "codemirror_mode": {
    "name": "ipython",
    "version": 3
   },
   "file_extension": ".py",
   "mimetype": "text/x-python",
   "name": "python",
   "nbconvert_exporter": "python",
   "pygments_lexer": "ipython3",
   "version": "3.12.0"
  }
 },
 "nbformat": 4,
 "nbformat_minor": 2
}
